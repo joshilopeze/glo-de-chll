{
 "cells": [
  {
   "cell_type": "code",
   "execution_count": 0,
   "metadata": {
    "application/vnd.databricks.v1+cell": {
     "cellMetadata": {
      "byteLimit": 2048000,
      "rowLimit": 10000
     },
     "inputWidgets": {},
     "nuid": "e779831b-857d-459d-b006-90a918113ce1",
     "showTitle": false,
     "tableResultSettingsMap": {},
     "title": ""
    }
   },
   "outputs": [],
   "source": [
    "##Connections keys"
   ]
  },
  {
   "cell_type": "code",
   "execution_count": 0,
   "metadata": {
    "application/vnd.databricks.v1+cell": {
     "cellMetadata": {
      "byteLimit": 2048000,
      "rowLimit": 10000
     },
     "inputWidgets": {},
     "nuid": "f3d717cd-4a0e-4464-a278-73425c6acd1c",
     "showTitle": false,
     "tableResultSettingsMap": {},
     "title": ""
    }
   },
   "outputs": [],
   "source": [
    "dbutils.fs.ls(\"abfss://raw@storage2de.dfs.core.windows.net/\")\n",
    "dbutils.fs.ls(\"abfss://backups@storage2de.dfs.core.windows.net/\")\n",
    "dbutils.fs.ls(\"abfss://logs@storage2de.dfs.core.windows.net/\")"
   ]
  },
  {
   "cell_type": "code",
   "execution_count": 0,
   "metadata": {
    "application/vnd.databricks.v1+cell": {
     "cellMetadata": {
      "byteLimit": 2048000,
      "rowLimit": 10000
     },
     "inputWidgets": {},
     "nuid": "d47664a9-ee5f-4ab8-906a-b650068e23a5",
     "showTitle": false,
     "tableResultSettingsMap": {},
     "title": ""
    }
   },
   "outputs": [],
   "source": [
    "dbutils.fs.ls(\"abfss://raw@storage2de.dfs.core.windows.net/\")"
   ]
  },
  {
   "cell_type": "code",
   "execution_count": 0,
   "metadata": {
    "application/vnd.databricks.v1+cell": {
     "cellMetadata": {
      "byteLimit": 2048000,
      "rowLimit": 10000
     },
     "inputWidgets": {},
     "nuid": "6f4534ae-663e-4e8e-96a0-1a5379f2d73b",
     "showTitle": false,
     "tableResultSettingsMap": {},
     "title": ""
    }
   },
   "outputs": [],
   "source": [
    "#Assigning the schema as needed\n",
    "from pyspark.sql.types import StructType, StructField, IntegerType, StringType\n",
    "\n",
    "hired_employees_schema = StructType([\n",
    "    StructField(\"id\", IntegerType(), True),  # id del empleado\n",
    "    StructField(\"name\", StringType(), True),  # nombre y apellido del empleado\n",
    "    StructField(\"datetime\", StringType(), True),  # fecha y hora de contratación\n",
    "    StructField(\"department_id\", IntegerType(), True),  # id del departamento\n",
    "    StructField(\"job_id\", IntegerType(), True)  # id del trabajo\n",
    "])\n",
    "\n",
    "departments_schema = StructType([\n",
    "    StructField(\"id\", IntegerType(), True),  # id del empleado\n",
    "    StructField(\"department\", StringType(), True),  # id del departamento\n",
    "])\n",
    "\n",
    "\n",
    "jobs_schema = StructType([\n",
    "    StructField(\"id\", IntegerType(), True),  # id del empleado\n",
    "    StructField(\"job\", StringType(), True)  # id del trabajo\n",
    "])\n"
   ]
  },
  {
   "cell_type": "code",
   "execution_count": 0,
   "metadata": {
    "application/vnd.databricks.v1+cell": {
     "cellMetadata": {
      "byteLimit": 2048000,
      "rowLimit": 10000
     },
     "inputWidgets": {},
     "nuid": "43966874-de43-462f-8875-b6a2e720dd1f",
     "showTitle": false,
     "tableResultSettingsMap": {},
     "title": ""
    }
   },
   "outputs": [],
   "source": [
    "hired_employees_df = spark.read.csv(\"abfss://raw@storage2de.dfs.core.windows.net/hired_employees.csv\", header=False, schema=hired_employees_schema)\n",
    "departments_df = spark.read.csv(\"abfss://raw@storage2de.dfs.core.windows.net/departments.csv\", header=False, schema=departments_schema)\n",
    "jobs_df = spark.read.csv(\"abfss://raw@storage2de.dfs.core.windows.net/jobs.csv\", header=False,schema=jobs_schema)"
   ]
  },
  {
   "cell_type": "code",
   "execution_count": 0,
   "metadata": {
    "application/vnd.databricks.v1+cell": {
     "cellMetadata": {
      "byteLimit": 2048000,
      "rowLimit": 10000
     },
     "inputWidgets": {},
     "nuid": "2fb2505b-0f4b-4a01-88df-674d7cb859b8",
     "showTitle": false,
     "tableResultSettingsMap": {},
     "title": ""
    }
   },
   "outputs": [],
   "source": [
    "display(departments_df)"
   ]
  },
  {
   "cell_type": "code",
   "execution_count": 0,
   "metadata": {
    "application/vnd.databricks.v1+cell": {
     "cellMetadata": {
      "byteLimit": 2048000,
      "rowLimit": 10000
     },
     "inputWidgets": {},
     "nuid": "7606074b-42a4-43a1-92dc-6b923ea1cd80",
     "showTitle": false,
     "tableResultSettingsMap": {},
     "title": ""
    }
   },
   "outputs": [],
   "source": [
    "from pyspark.sql.functions import col\n",
    "\n",
    "invalid_hired = hired_employees_df.filter(\n",
    "    col(\"id\").isNull() | col(\"name\").isNull() | col(\"datetime\").isNull() |\n",
    "    col(\"department_id\").isNull() | col(\"job_id\").isNull()\n",
    ")\n",
    "invalid_hired.write.mode(\"append\").csv(\"abfss://logs@storage2de.dfs.core.windows.net/\")\n",
    "valid_hired = hired_employees_df.na.drop()"
   ]
  },
  {
   "cell_type": "code",
   "execution_count": 0,
   "metadata": {
    "application/vnd.databricks.v1+cell": {
     "cellMetadata": {
      "byteLimit": 2048000,
      "rowLimit": 10000
     },
     "inputWidgets": {},
     "nuid": "d6084818-adfa-4f6c-a652-df5bf82b1c58",
     "showTitle": false,
     "tableResultSettingsMap": {},
     "title": ""
    }
   },
   "outputs": [],
   "source": [
    "invalid_departments = departments_df.filter(\n",
    "    col(\"id\").isNull() | col(\"department\").isNull()\n",
    ")\n",
    "invalid_departments.write.mode(\"append\").csv(\"abfss://logs@storage2de.dfs.core.windows.net/\")\n",
    "valid_departments = departments_df.na.drop()"
   ]
  },
  {
   "cell_type": "code",
   "execution_count": 0,
   "metadata": {
    "application/vnd.databricks.v1+cell": {
     "cellMetadata": {
      "byteLimit": 2048000,
      "rowLimit": 10000
     },
     "inputWidgets": {},
     "nuid": "2bdd57e9-1f3d-4005-9b2c-1d4bb6b72d6f",
     "showTitle": false,
     "tableResultSettingsMap": {},
     "title": ""
    }
   },
   "outputs": [],
   "source": [
    "invalid_jobs = jobs_df.filter(\n",
    "    col(\"id\").isNull() | col(\"job\").isNull()\n",
    ")\n",
    "invalid_jobs.write.mode(\"append\").csv(\"abfss://logs@storage2de.dfs.core.windows.net/\")\n",
    "valid_jobs = jobs_df.na.drop()"
   ]
  },
  {
   "cell_type": "code",
   "execution_count": 0,
   "metadata": {
    "application/vnd.databricks.v1+cell": {
     "cellMetadata": {
      "byteLimit": 2048000,
      "rowLimit": 10000
     },
     "inputWidgets": {},
     "nuid": "77b628f8-4a25-48a8-b8de-e1b8e84c72ee",
     "showTitle": false,
     "tableResultSettingsMap": {},
     "title": ""
    }
   },
   "outputs": [],
   "source": [
    "# Conexión JDBC\n",
    "jdbc_url = \"jdbc:sqlserver://db-sql-db.database.windows.net:1433;databaseName=db-de-v2;user=adminsql;password=password123.;encrypt=true;trustServerCertificate=false\"\n",
    "\n",
    "# Configura las propiedades de conexión\n",
    "connection_properties = {\n",
    "    \"driver\": \"com.microsoft.sqlserver.jdbc.SQLServerDriver\"\n",
    "}\n",
    "\n",
    "\n",
    "valid_departments.write.jdbc(url=jdbc_url, table=\"departments\", mode=\"append\", properties=connection_properties)\n",
    "\n",
    "# Cargar trabajos (jobs)\n",
    "valid_jobs.write.jdbc(url=jdbc_url, table=\"jobs\", mode=\"append\", properties=connection_properties)\n",
    "\n",
    "# Ahora sí cargar empleados\n",
    "valid_hired.write.jdbc(url=jdbc_url, table=\"hired_employees\", mode=\"append\", properties=connection_properties)"
   ]
  },
  {
   "cell_type": "code",
   "execution_count": 0,
   "metadata": {
    "application/vnd.databricks.v1+cell": {
     "cellMetadata": {},
     "inputWidgets": {},
     "nuid": "ffdef53a-4911-434b-bc4e-6f72e485a81a",
     "showTitle": false,
     "tableResultSettingsMap": {},
     "title": ""
    }
   },
   "outputs": [],
   "source": [
    "jdbc_url = \"jdbc:sqlserver://sv-de-globant-challenge.database.windows.net:1433;databaseName=db-de-globant;user=joshilope1609;password=<tu_contraseña>;encrypt=true;trustServerCertificate=false\"\n",
    "\n",
    "connection_properties = {\n",
    "    \"driver\": \"com.microsoft.sqlserver.jdbc.SQLServerDriver\"\n",
    "}"
   ]
  },
  {
   "cell_type": "code",
   "execution_count": 0,
   "metadata": {
    "application/vnd.databricks.v1+cell": {
     "cellMetadata": {
      "byteLimit": 2048000,
      "rowLimit": 10000
     },
     "inputWidgets": {},
     "nuid": "213954f3-de14-44e0-821d-6387f8d10535",
     "showTitle": false,
     "tableResultSettingsMap": {},
     "title": ""
    }
   },
   "outputs": [],
   "source": [
    "jdbc_url = \"jdbc:sqlserver://sv-de-globant-challenge.database.windows.net:1433;database=db-de-globant;encrypt=true;trustServerCertificate=false;hostNameInCertificate=*.database.windows.net;loginTimeout=30;Authentication=ActiveDirectoryIntegrated\"\n",
    "\n",
    "connection_properties = {\n",
    "    \"driver\": \"com.microsoft.sqlserver.jdbc.SQLServerDriver\"\n",
    "}\n",
    "\n",
    "valid_hired.write.jdbc(url=jdbc_url, table=\"hired_employees\", mode=\"append\", properties=connection_properties)"
   ]
  }
 ],
 "metadata": {
  "application/vnd.databricks.v1+notebook": {
   "computePreferences": null,
   "dashboards": [],
   "environmentMetadata": {
    "base_environment": "",
    "environment_version": "2"
   },
   "inputWidgetPreferences": null,
   "language": "python",
   "notebookMetadata": {
    "pythonIndentUnit": 4
   },
   "notebookName": "conn_adls_db",
   "widgets": {}
  },
  "language_info": {
   "name": "python"
  }
 },
 "nbformat": 4,
 "nbformat_minor": 0
}
