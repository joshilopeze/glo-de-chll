{
 "cells": [
  {
   "cell_type": "code",
   "execution_count": 0,
   "metadata": {
    "application/vnd.databricks.v1+cell": {
     "cellMetadata": {},
     "inputWidgets": {},
     "nuid": "9e8b5374-2bce-4b4a-af76-5f782df9a929",
     "showTitle": false,
     "tableResultSettingsMap": {},
     "title": ""
    }
   },
   "outputs": [],
   "source": [
    "# Conexión JDBC\n",
    "jdbc_url = \"jdbc:sqlserver://db-sql-db.database.windows.net:1433;databaseName=db-de-v2;user=adminsql;password=password123.;encrypt=true;trustServerCertificate=false\"\n",
    "\n",
    "# Configura las propiedades de conexión\n",
    "connection_properties = {\n",
    "    \"driver\": \"com.microsoft.sqlserver.jdbc.SQLServerDriver\"\n",
    "}\n",
    "\n",
    "\n",
    "valid_departments.write.jdbc(url=jdbc_url, table=\"departments\", mode=\"append\", properties=connection_properties)\n",
    "\n",
    "# Cargar trabajos (jobs)\n",
    "valid_jobs.write.jdbc(url=jdbc_url, table=\"jobs\", mode=\"append\", properties=connection_properties)\n",
    "\n",
    "# Ahora sí cargar empleados\n",
    "valid_hired.write.jdbc(url=jdbc_url, table=\"hired_employees\", mode=\"append\", properties=connection_properties)"
   ]
  }
 ],
 "metadata": {
  "application/vnd.databricks.v1+notebook": {
   "computePreferences": null,
   "dashboards": [],
   "environmentMetadata": {
    "base_environment": "",
    "environment_version": "2"
   },
   "inputWidgetPreferences": null,
   "language": "python",
   "notebookMetadata": {
    "pythonIndentUnit": 4
   },
   "notebookName": "conn_db_sql",
   "widgets": {}
  },
  "language_info": {
   "name": "python"
  }
 },
 "nbformat": 4,
 "nbformat_minor": 0
}
